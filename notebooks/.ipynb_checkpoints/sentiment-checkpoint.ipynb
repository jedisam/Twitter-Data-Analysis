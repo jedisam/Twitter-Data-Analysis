{
 "cells": [
  {
   "cell_type": "code",
   "execution_count": 1,
   "metadata": {},
   "outputs": [],
   "source": [
    "import pandas as pd # data processing, CSV file I/O (e.g. pd.read_csv)\n",
    "import re\n",
    "from os import listdir\n",
    "from os.path import isfile, join\n",
    "from random import shuffle\n",
    "import seaborn as sns"
   ]
  },
  {
   "cell_type": "code",
   "execution_count": 2,
   "metadata": {},
   "outputs": [],
   "source": [
    "import numpy as np \n",
    "import nltk \n",
    "import matplotlib.pyplot as plt\n",
    "%matplotlib inline"
   ]
  },
  {
   "cell_type": "code",
   "execution_count": 3,
   "metadata": {},
   "outputs": [],
   "source": [
    "from sklearn.feature_extraction.text import CountVectorizer, TfidfTransformer\n",
    "from sklearn.decomposition import NMF, LatentDirichletAllocation\n",
    "from sklearn.linear_model import SGDClassifier\n",
    "from sklearn.model_selection import train_test_split\n",
    "from sklearn.model_selection import RandomizedSearchCV"
   ]
  },
  {
   "cell_type": "code",
   "execution_count": 4,
   "metadata": {},
   "outputs": [],
   "source": [
    "df = pd.read_csv('../clean_tweet.csv')"
   ]
  },
  {
   "cell_type": "code",
   "execution_count": 5,
   "metadata": {},
   "outputs": [
    {
     "data": {
      "text/html": [
       "<div>\n",
       "<style scoped>\n",
       "    .dataframe tbody tr th:only-of-type {\n",
       "        vertical-align: middle;\n",
       "    }\n",
       "\n",
       "    .dataframe tbody tr th {\n",
       "        vertical-align: top;\n",
       "    }\n",
       "\n",
       "    .dataframe thead th {\n",
       "        text-align: right;\n",
       "    }\n",
       "</style>\n",
       "<table border=\"1\" class=\"dataframe\">\n",
       "  <thead>\n",
       "    <tr style=\"text-align: right;\">\n",
       "      <th></th>\n",
       "      <th>Unnamed: 0</th>\n",
       "      <th>created_at</th>\n",
       "      <th>source</th>\n",
       "      <th>original_text</th>\n",
       "      <th>polarity</th>\n",
       "      <th>subjectivity</th>\n",
       "      <th>lang</th>\n",
       "      <th>favourite_count</th>\n",
       "      <th>retweet_count</th>\n",
       "      <th>original_author</th>\n",
       "      <th>followers_count</th>\n",
       "      <th>friends_count</th>\n",
       "      <th>possibly_sensitive</th>\n",
       "      <th>hashtags</th>\n",
       "      <th>user_mentions</th>\n",
       "      <th>place</th>\n",
       "      <th>clean_text</th>\n",
       "    </tr>\n",
       "  </thead>\n",
       "  <tbody>\n",
       "    <tr>\n",
       "      <th>0</th>\n",
       "      <td>0</td>\n",
       "      <td>2022-04-22 22:17:05+00:00</td>\n",
       "      <td>&lt;a href=\"http://twitter.com/download/android\" ...</td>\n",
       "      <td>RT @NorthstarCharts: The 10-year yield is tell...</td>\n",
       "      <td>0.16</td>\n",
       "      <td>0.540000</td>\n",
       "      <td>en</td>\n",
       "      <td>188.0</td>\n",
       "      <td>43.0</td>\n",
       "      <td>davideiacovozzi</td>\n",
       "      <td>18</td>\n",
       "      <td>18</td>\n",
       "      <td>NaN</td>\n",
       "      <td>[{'text': 'gold', 'indices': [116, 121]}, {'te...</td>\n",
       "      <td>[{'screen_name': 'NorthstarCharts', 'name': 'N...</td>\n",
       "      <td>NaN</td>\n",
       "      <td>rt northstarchart the yield tell us there high...</td>\n",
       "    </tr>\n",
       "    <tr>\n",
       "      <th>1</th>\n",
       "      <td>1</td>\n",
       "      <td>2022-04-22 13:44:53+00:00</td>\n",
       "      <td>&lt;a href=\"http://twitter.com/download/android\" ...</td>\n",
       "      <td>RT @MichaelAArouet: German 10y mortgage rate w...</td>\n",
       "      <td>0.15</td>\n",
       "      <td>0.175000</td>\n",
       "      <td>en</td>\n",
       "      <td>179.0</td>\n",
       "      <td>32.0</td>\n",
       "      <td>davideiacovozzi</td>\n",
       "      <td>18</td>\n",
       "      <td>18</td>\n",
       "      <td>NaN</td>\n",
       "      <td>[]</td>\n",
       "      <td>[{'screen_name': 'MichaelAArouet', 'name': 'Mi...</td>\n",
       "      <td>NaN</td>\n",
       "      <td>rt michaelaarouet german mortgag rate went can...</td>\n",
       "    </tr>\n",
       "    <tr>\n",
       "      <th>2</th>\n",
       "      <td>2</td>\n",
       "      <td>2022-04-22 06:10:34+00:00</td>\n",
       "      <td>&lt;a href=\"http://twitter.com/download/android\" ...</td>\n",
       "      <td>RT @goldseek: When? https://t.co/kO2FfHKaZg</td>\n",
       "      <td>0.00</td>\n",
       "      <td>0.000000</td>\n",
       "      <td>en</td>\n",
       "      <td>193.0</td>\n",
       "      <td>26.0</td>\n",
       "      <td>davideiacovozzi</td>\n",
       "      <td>18</td>\n",
       "      <td>18</td>\n",
       "      <td>False</td>\n",
       "      <td>[]</td>\n",
       "      <td>[{'screen_name': 'goldseek', 'name': 'Peter ⚒ ...</td>\n",
       "      <td>NaN</td>\n",
       "      <td>rt goldseek when</td>\n",
       "    </tr>\n",
       "    <tr>\n",
       "      <th>3</th>\n",
       "      <td>3</td>\n",
       "      <td>2022-04-21 17:22:09+00:00</td>\n",
       "      <td>&lt;a href=\"http://twitter.com/download/android\" ...</td>\n",
       "      <td>RT @charliebilello: The 30-year mortgage rate ...</td>\n",
       "      <td>0.00</td>\n",
       "      <td>0.183333</td>\n",
       "      <td>en</td>\n",
       "      <td>620.0</td>\n",
       "      <td>213.0</td>\n",
       "      <td>davideiacovozzi</td>\n",
       "      <td>18</td>\n",
       "      <td>18</td>\n",
       "      <td>NaN</td>\n",
       "      <td>[]</td>\n",
       "      <td>[{'screen_name': 'charliebilello', 'name': 'Ch...</td>\n",
       "      <td>NaN</td>\n",
       "      <td>rt charliebilello the mortgag rate us rise hig...</td>\n",
       "    </tr>\n",
       "    <tr>\n",
       "      <th>4</th>\n",
       "      <td>4</td>\n",
       "      <td>2022-04-21 10:32:26+00:00</td>\n",
       "      <td>&lt;a href=\"http://twitter.com/download/android\" ...</td>\n",
       "      <td>RT @biancoresearch: Rates rise until something...</td>\n",
       "      <td>-0.40</td>\n",
       "      <td>0.400000</td>\n",
       "      <td>en</td>\n",
       "      <td>1787.0</td>\n",
       "      <td>417.0</td>\n",
       "      <td>davideiacovozzi</td>\n",
       "      <td>18</td>\n",
       "      <td>18</td>\n",
       "      <td>False</td>\n",
       "      <td>[]</td>\n",
       "      <td>[{'screen_name': 'biancoresearch', 'name': 'Ji...</td>\n",
       "      <td>NaN</td>\n",
       "      <td>rt biancoresearch rate rise someth break anyth...</td>\n",
       "    </tr>\n",
       "  </tbody>\n",
       "</table>\n",
       "</div>"
      ],
      "text/plain": [
       "   Unnamed: 0                 created_at  \\\n",
       "0           0  2022-04-22 22:17:05+00:00   \n",
       "1           1  2022-04-22 13:44:53+00:00   \n",
       "2           2  2022-04-22 06:10:34+00:00   \n",
       "3           3  2022-04-21 17:22:09+00:00   \n",
       "4           4  2022-04-21 10:32:26+00:00   \n",
       "\n",
       "                                              source  \\\n",
       "0  <a href=\"http://twitter.com/download/android\" ...   \n",
       "1  <a href=\"http://twitter.com/download/android\" ...   \n",
       "2  <a href=\"http://twitter.com/download/android\" ...   \n",
       "3  <a href=\"http://twitter.com/download/android\" ...   \n",
       "4  <a href=\"http://twitter.com/download/android\" ...   \n",
       "\n",
       "                                       original_text  polarity  subjectivity  \\\n",
       "0  RT @NorthstarCharts: The 10-year yield is tell...      0.16      0.540000   \n",
       "1  RT @MichaelAArouet: German 10y mortgage rate w...      0.15      0.175000   \n",
       "2        RT @goldseek: When? https://t.co/kO2FfHKaZg      0.00      0.000000   \n",
       "3  RT @charliebilello: The 30-year mortgage rate ...      0.00      0.183333   \n",
       "4  RT @biancoresearch: Rates rise until something...     -0.40      0.400000   \n",
       "\n",
       "  lang  favourite_count  retweet_count  original_author  followers_count  \\\n",
       "0   en            188.0           43.0  davideiacovozzi               18   \n",
       "1   en            179.0           32.0  davideiacovozzi               18   \n",
       "2   en            193.0           26.0  davideiacovozzi               18   \n",
       "3   en            620.0          213.0  davideiacovozzi               18   \n",
       "4   en           1787.0          417.0  davideiacovozzi               18   \n",
       "\n",
       "   friends_count possibly_sensitive  \\\n",
       "0             18                NaN   \n",
       "1             18                NaN   \n",
       "2             18              False   \n",
       "3             18                NaN   \n",
       "4             18              False   \n",
       "\n",
       "                                            hashtags  \\\n",
       "0  [{'text': 'gold', 'indices': [116, 121]}, {'te...   \n",
       "1                                                 []   \n",
       "2                                                 []   \n",
       "3                                                 []   \n",
       "4                                                 []   \n",
       "\n",
       "                                       user_mentions place  \\\n",
       "0  [{'screen_name': 'NorthstarCharts', 'name': 'N...   NaN   \n",
       "1  [{'screen_name': 'MichaelAArouet', 'name': 'Mi...   NaN   \n",
       "2  [{'screen_name': 'goldseek', 'name': 'Peter ⚒ ...   NaN   \n",
       "3  [{'screen_name': 'charliebilello', 'name': 'Ch...   NaN   \n",
       "4  [{'screen_name': 'biancoresearch', 'name': 'Ji...   NaN   \n",
       "\n",
       "                                          clean_text  \n",
       "0  rt northstarchart the yield tell us there high...  \n",
       "1  rt michaelaarouet german mortgag rate went can...  \n",
       "2                                   rt goldseek when  \n",
       "3  rt charliebilello the mortgag rate us rise hig...  \n",
       "4  rt biancoresearch rate rise someth break anyth...  "
      ]
     },
     "execution_count": 5,
     "metadata": {},
     "output_type": "execute_result"
    }
   ],
   "source": [
    "df.head()"
   ]
  },
  {
   "cell_type": "code",
   "execution_count": null,
   "metadata": {},
   "outputs": [],
   "source": []
  },
  {
   "cell_type": "code",
   "execution_count": 6,
   "metadata": {},
   "outputs": [],
   "source": [
    "def condition(x):\n",
    "    if x>0:\n",
    "        return \"positive\"\n",
    "    elif x == 0:\n",
    "        return \"neutral\"\n",
    "    else:\n",
    "        return 'negative'"
   ]
  },
  {
   "cell_type": "code",
   "execution_count": 7,
   "metadata": {},
   "outputs": [],
   "source": [
    "df['sentiment'] = df['polarity'].apply(condition)\n"
   ]
  },
  {
   "cell_type": "code",
   "execution_count": 8,
   "metadata": {},
   "outputs": [
    {
     "data": {
      "text/html": [
       "<div>\n",
       "<style scoped>\n",
       "    .dataframe tbody tr th:only-of-type {\n",
       "        vertical-align: middle;\n",
       "    }\n",
       "\n",
       "    .dataframe tbody tr th {\n",
       "        vertical-align: top;\n",
       "    }\n",
       "\n",
       "    .dataframe thead th {\n",
       "        text-align: right;\n",
       "    }\n",
       "</style>\n",
       "<table border=\"1\" class=\"dataframe\">\n",
       "  <thead>\n",
       "    <tr style=\"text-align: right;\">\n",
       "      <th></th>\n",
       "      <th>Unnamed: 0</th>\n",
       "      <th>created_at</th>\n",
       "      <th>source</th>\n",
       "      <th>original_text</th>\n",
       "      <th>polarity</th>\n",
       "      <th>subjectivity</th>\n",
       "      <th>lang</th>\n",
       "      <th>favourite_count</th>\n",
       "      <th>retweet_count</th>\n",
       "      <th>original_author</th>\n",
       "      <th>followers_count</th>\n",
       "      <th>friends_count</th>\n",
       "      <th>possibly_sensitive</th>\n",
       "      <th>hashtags</th>\n",
       "      <th>user_mentions</th>\n",
       "      <th>place</th>\n",
       "      <th>clean_text</th>\n",
       "      <th>sentiment</th>\n",
       "    </tr>\n",
       "  </thead>\n",
       "  <tbody>\n",
       "    <tr>\n",
       "      <th>0</th>\n",
       "      <td>0</td>\n",
       "      <td>2022-04-22 22:17:05+00:00</td>\n",
       "      <td>&lt;a href=\"http://twitter.com/download/android\" ...</td>\n",
       "      <td>RT @NorthstarCharts: The 10-year yield is tell...</td>\n",
       "      <td>0.16</td>\n",
       "      <td>0.540000</td>\n",
       "      <td>en</td>\n",
       "      <td>188.0</td>\n",
       "      <td>43.0</td>\n",
       "      <td>davideiacovozzi</td>\n",
       "      <td>18</td>\n",
       "      <td>18</td>\n",
       "      <td>NaN</td>\n",
       "      <td>[{'text': 'gold', 'indices': [116, 121]}, {'te...</td>\n",
       "      <td>[{'screen_name': 'NorthstarCharts', 'name': 'N...</td>\n",
       "      <td>NaN</td>\n",
       "      <td>rt northstarchart the yield tell us there high...</td>\n",
       "      <td>positive</td>\n",
       "    </tr>\n",
       "    <tr>\n",
       "      <th>1</th>\n",
       "      <td>1</td>\n",
       "      <td>2022-04-22 13:44:53+00:00</td>\n",
       "      <td>&lt;a href=\"http://twitter.com/download/android\" ...</td>\n",
       "      <td>RT @MichaelAArouet: German 10y mortgage rate w...</td>\n",
       "      <td>0.15</td>\n",
       "      <td>0.175000</td>\n",
       "      <td>en</td>\n",
       "      <td>179.0</td>\n",
       "      <td>32.0</td>\n",
       "      <td>davideiacovozzi</td>\n",
       "      <td>18</td>\n",
       "      <td>18</td>\n",
       "      <td>NaN</td>\n",
       "      <td>[]</td>\n",
       "      <td>[{'screen_name': 'MichaelAArouet', 'name': 'Mi...</td>\n",
       "      <td>NaN</td>\n",
       "      <td>rt michaelaarouet german mortgag rate went can...</td>\n",
       "      <td>positive</td>\n",
       "    </tr>\n",
       "    <tr>\n",
       "      <th>2</th>\n",
       "      <td>2</td>\n",
       "      <td>2022-04-22 06:10:34+00:00</td>\n",
       "      <td>&lt;a href=\"http://twitter.com/download/android\" ...</td>\n",
       "      <td>RT @goldseek: When? https://t.co/kO2FfHKaZg</td>\n",
       "      <td>0.00</td>\n",
       "      <td>0.000000</td>\n",
       "      <td>en</td>\n",
       "      <td>193.0</td>\n",
       "      <td>26.0</td>\n",
       "      <td>davideiacovozzi</td>\n",
       "      <td>18</td>\n",
       "      <td>18</td>\n",
       "      <td>False</td>\n",
       "      <td>[]</td>\n",
       "      <td>[{'screen_name': 'goldseek', 'name': 'Peter ⚒ ...</td>\n",
       "      <td>NaN</td>\n",
       "      <td>rt goldseek when</td>\n",
       "      <td>neutral</td>\n",
       "    </tr>\n",
       "    <tr>\n",
       "      <th>3</th>\n",
       "      <td>3</td>\n",
       "      <td>2022-04-21 17:22:09+00:00</td>\n",
       "      <td>&lt;a href=\"http://twitter.com/download/android\" ...</td>\n",
       "      <td>RT @charliebilello: The 30-year mortgage rate ...</td>\n",
       "      <td>0.00</td>\n",
       "      <td>0.183333</td>\n",
       "      <td>en</td>\n",
       "      <td>620.0</td>\n",
       "      <td>213.0</td>\n",
       "      <td>davideiacovozzi</td>\n",
       "      <td>18</td>\n",
       "      <td>18</td>\n",
       "      <td>NaN</td>\n",
       "      <td>[]</td>\n",
       "      <td>[{'screen_name': 'charliebilello', 'name': 'Ch...</td>\n",
       "      <td>NaN</td>\n",
       "      <td>rt charliebilello the mortgag rate us rise hig...</td>\n",
       "      <td>neutral</td>\n",
       "    </tr>\n",
       "    <tr>\n",
       "      <th>4</th>\n",
       "      <td>4</td>\n",
       "      <td>2022-04-21 10:32:26+00:00</td>\n",
       "      <td>&lt;a href=\"http://twitter.com/download/android\" ...</td>\n",
       "      <td>RT @biancoresearch: Rates rise until something...</td>\n",
       "      <td>-0.40</td>\n",
       "      <td>0.400000</td>\n",
       "      <td>en</td>\n",
       "      <td>1787.0</td>\n",
       "      <td>417.0</td>\n",
       "      <td>davideiacovozzi</td>\n",
       "      <td>18</td>\n",
       "      <td>18</td>\n",
       "      <td>False</td>\n",
       "      <td>[]</td>\n",
       "      <td>[{'screen_name': 'biancoresearch', 'name': 'Ji...</td>\n",
       "      <td>NaN</td>\n",
       "      <td>rt biancoresearch rate rise someth break anyth...</td>\n",
       "      <td>negative</td>\n",
       "    </tr>\n",
       "  </tbody>\n",
       "</table>\n",
       "</div>"
      ],
      "text/plain": [
       "   Unnamed: 0                 created_at  \\\n",
       "0           0  2022-04-22 22:17:05+00:00   \n",
       "1           1  2022-04-22 13:44:53+00:00   \n",
       "2           2  2022-04-22 06:10:34+00:00   \n",
       "3           3  2022-04-21 17:22:09+00:00   \n",
       "4           4  2022-04-21 10:32:26+00:00   \n",
       "\n",
       "                                              source  \\\n",
       "0  <a href=\"http://twitter.com/download/android\" ...   \n",
       "1  <a href=\"http://twitter.com/download/android\" ...   \n",
       "2  <a href=\"http://twitter.com/download/android\" ...   \n",
       "3  <a href=\"http://twitter.com/download/android\" ...   \n",
       "4  <a href=\"http://twitter.com/download/android\" ...   \n",
       "\n",
       "                                       original_text  polarity  subjectivity  \\\n",
       "0  RT @NorthstarCharts: The 10-year yield is tell...      0.16      0.540000   \n",
       "1  RT @MichaelAArouet: German 10y mortgage rate w...      0.15      0.175000   \n",
       "2        RT @goldseek: When? https://t.co/kO2FfHKaZg      0.00      0.000000   \n",
       "3  RT @charliebilello: The 30-year mortgage rate ...      0.00      0.183333   \n",
       "4  RT @biancoresearch: Rates rise until something...     -0.40      0.400000   \n",
       "\n",
       "  lang  favourite_count  retweet_count  original_author  followers_count  \\\n",
       "0   en            188.0           43.0  davideiacovozzi               18   \n",
       "1   en            179.0           32.0  davideiacovozzi               18   \n",
       "2   en            193.0           26.0  davideiacovozzi               18   \n",
       "3   en            620.0          213.0  davideiacovozzi               18   \n",
       "4   en           1787.0          417.0  davideiacovozzi               18   \n",
       "\n",
       "   friends_count possibly_sensitive  \\\n",
       "0             18                NaN   \n",
       "1             18                NaN   \n",
       "2             18              False   \n",
       "3             18                NaN   \n",
       "4             18              False   \n",
       "\n",
       "                                            hashtags  \\\n",
       "0  [{'text': 'gold', 'indices': [116, 121]}, {'te...   \n",
       "1                                                 []   \n",
       "2                                                 []   \n",
       "3                                                 []   \n",
       "4                                                 []   \n",
       "\n",
       "                                       user_mentions place  \\\n",
       "0  [{'screen_name': 'NorthstarCharts', 'name': 'N...   NaN   \n",
       "1  [{'screen_name': 'MichaelAArouet', 'name': 'Mi...   NaN   \n",
       "2  [{'screen_name': 'goldseek', 'name': 'Peter ⚒ ...   NaN   \n",
       "3  [{'screen_name': 'charliebilello', 'name': 'Ch...   NaN   \n",
       "4  [{'screen_name': 'biancoresearch', 'name': 'Ji...   NaN   \n",
       "\n",
       "                                          clean_text sentiment  \n",
       "0  rt northstarchart the yield tell us there high...  positive  \n",
       "1  rt michaelaarouet german mortgag rate went can...  positive  \n",
       "2                                   rt goldseek when   neutral  \n",
       "3  rt charliebilello the mortgag rate us rise hig...   neutral  \n",
       "4  rt biancoresearch rate rise someth break anyth...  negative  "
      ]
     },
     "execution_count": 8,
     "metadata": {},
     "output_type": "execute_result"
    }
   ],
   "source": [
    "df.head()"
   ]
  },
  {
   "cell_type": "code",
   "execution_count": 9,
   "metadata": {},
   "outputs": [
    {
     "data": {
      "text/plain": [
       "<AxesSubplot:xlabel='sentiment', ylabel='polarity'>"
      ]
     },
     "execution_count": 9,
     "metadata": {},
     "output_type": "execute_result"
    },
    {
     "data": {
      "image/png": "[encoded data removed]",
      "text/plain": [
       "<Figure size 432x288 with 1 Axes>"
      ]
     },
     "metadata": {
      "needs_background": "light"
     },
     "output_type": "display_data"
    }
   ],
   "source": [
    "sns.barplot(x='sentiment', y='polarity' , data=df)\n"
   ]
  },
  {
   "cell_type": "code",
   "execution_count": null,
   "metadata": {},
   "outputs": [],
   "source": [
    "x.shape"
   ]
  },
  {
   "cell_type": "code",
   "execution_count": null,
   "metadata": {},
   "outputs": [],
   "source": []
  },
  {
   "cell_type": "code",
   "execution_count": 15,
   "metadata": {},
   "outputs": [],
   "source": [
    "features = df.iloc[:, 3].values\n",
    "labels = df.iloc[:, 17].values"
   ]
  },
  {
   "cell_type": "code",
   "execution_count": 16,
   "metadata": {},
   "outputs": [
    {
     "data": {
      "text/plain": [
       "array([\"RT @NorthstarCharts: The 10-year yield is telling us that there's a high risk of something 'breaking' in the system #gold #silver #crypto #…\",\n",
       "       'RT @MichaelAArouet: German 10y mortgage rate went from 0,8% to 2,50% 👇 Can you hear the sound of German real estate bubble bursting? https:…',\n",
       "       'RT @goldseek: When? https://t.co/kO2FfHKaZg', ...,\n",
       "       'RT @s_shreyatweets: Agree ?👇 https://t.co/R54Zjw3kGB',\n",
       "       'RT @tejjINC: 1. Peace Yatra by Late Sunil Dutt from Mumbai towards Amritsar calling for peace in Punjab. https://t.co/9Zfttgn3mN',\n",
       "       \"RT @Parthtiwari25: Gujarat Congress MLA arrested for a tweet - No news coverage \\nGujarat Congress leader who's not even an MLA talks bullsh…\"],\n",
       "      dtype=object)"
      ]
     },
     "execution_count": 16,
     "metadata": {},
     "output_type": "execute_result"
    }
   ],
   "source": [
    "features"
   ]
  },
  {
   "cell_type": "code",
   "execution_count": 17,
   "metadata": {},
   "outputs": [
    {
     "data": {
      "text/plain": [
       "array(['positive', 'positive', 'neutral', ..., 'neutral', 'negative',\n",
       "       'neutral'], dtype=object)"
      ]
     },
     "execution_count": 17,
     "metadata": {},
     "output_type": "execute_result"
    }
   ],
   "source": [
    "labels"
   ]
  },
  {
   "cell_type": "code",
   "execution_count": null,
   "metadata": {},
   "outputs": [],
   "source": []
  },
  {
   "cell_type": "code",
   "execution_count": 18,
   "metadata": {},
   "outputs": [],
   "source": [
    "processed_features = []\n",
    "\n",
    "for sentence in range(0, len(features)):\n",
    "    # Remove all the special characters\n",
    "    processed_feature = re.sub(r'\\W', ' ', str(features[sentence]))\n",
    "\n",
    "    # remove all single characters\n",
    "    processed_feature= re.sub(r'\\s+[a-zA-Z]\\s+', ' ', processed_feature)\n",
    "\n",
    "    # Remove single characters from the start\n",
    "    processed_feature = re.sub(r'\\^[a-zA-Z]\\s+', ' ', processed_feature) \n",
    "\n",
    "    # Substituting multiple spaces with single space\n",
    "    processed_feature = re.sub(r'\\s+', ' ', processed_feature, flags=re.I)\n",
    "\n",
    "    # Removing prefixed 'b'\n",
    "    processed_feature = re.sub(r'^b\\s+', '', processed_feature)\n",
    "\n",
    "    # Converting to Lowercase\n",
    "    processed_feature = processed_feature.lower()\n",
    "\n",
    "    processed_features.append(processed_feature)"
   ]
  },
  {
   "cell_type": "code",
   "execution_count": null,
   "metadata": {},
   "outputs": [],
   "source": []
  },
  {
   "cell_type": "code",
   "execution_count": 20,
   "metadata": {},
   "outputs": [],
   "source": [
    "from nltk.corpus import stopwords\n",
    "from sklearn.feature_extraction.text import TfidfVectorizer\n",
    "\n",
    "vectorizer = TfidfVectorizer (max_features=2500, min_df=7, max_df=0.8, stop_words=stopwords.words('english'))\n",
    "processed_features = vectorizer.fit_transform(processed_features).toarray()"
   ]
  },
  {
   "cell_type": "code",
   "execution_count": null,
   "metadata": {},
   "outputs": [],
   "source": []
  },
  {
   "cell_type": "code",
   "execution_count": 22,
   "metadata": {},
   "outputs": [],
   "source": [
    "from sklearn.model_selection import train_test_split\n",
    "\n",
    "X_train, X_test, y_train, y_test = train_test_split(processed_features, labels, test_size=0.2, random_state=0)\n"
   ]
  },
  {
   "cell_type": "code",
   "execution_count": 23,
   "metadata": {},
   "outputs": [
    {
     "data": {
      "text/plain": [
       "RandomForestClassifier(n_estimators=200, random_state=0)"
      ]
     },
     "execution_count": 23,
     "metadata": {},
     "output_type": "execute_result"
    }
   ],
   "source": [
    "from sklearn.ensemble import RandomForestClassifier\n",
    "\n",
    "text_classifier = RandomForestClassifier(n_estimators=200, random_state=0)\n",
    "text_classifier.fit(X_train, y_train)"
   ]
  },
  {
   "cell_type": "code",
   "execution_count": null,
   "metadata": {},
   "outputs": [],
   "source": []
  },
  {
   "cell_type": "code",
   "execution_count": 24,
   "metadata": {},
   "outputs": [],
   "source": [
    "predictions = text_classifier.predict(X_test)\n"
   ]
  },
  {
   "cell_type": "code",
   "execution_count": 25,
   "metadata": {},
   "outputs": [
    {
     "name": "stdout",
     "output_type": "stream",
     "text": [
      "[[ 244  154   92]\n",
      " [  13 1315   36]\n",
      " [  39  194  929]]\n",
      "              precision    recall  f1-score   support\n",
      "\n",
      "    negative       0.82      0.50      0.62       490\n",
      "     neutral       0.79      0.96      0.87      1364\n",
      "    positive       0.88      0.80      0.84      1162\n",
      "\n",
      "    accuracy                           0.82      3016\n",
      "   macro avg       0.83      0.75      0.78      3016\n",
      "weighted avg       0.83      0.82      0.82      3016\n",
      "\n",
      "0.8249336870026526\n"
     ]
    }
   ],
   "source": [
    "from sklearn.metrics import classification_report, confusion_matrix, accuracy_score\n",
    "\n",
    "print(confusion_matrix(y_test,predictions))\n",
    "print(classification_report(y_test,predictions))\n",
    "print(accuracy_score(y_test, predictions))"
   ]
  },
  {
   "cell_type": "code",
   "execution_count": null,
   "metadata": {},
   "outputs": [],
   "source": []
  }
 ],
 "metadata": {
  "interpreter": {
   "hash": "75f376effe886d8b51843b632a4b92665fc33b9300797299f553ce70034dd324"
  },
  "kernelspec": {
   "display_name": "Python 3 (ipykernel)",
   "language": "python",
   "name": "python3"
  },
  "language_info": {
   "codemirror_mode": {
    "name": "ipython",
    "version": 3
   },
   "file_extension": ".py",
   "mimetype": "text/x-python",
   "name": "python",
   "nbconvert_exporter": "python",
   "pygments_lexer": "ipython3",
   "version": "3.9.7"
  }
 },
 "nbformat": 4,
 "nbformat_minor": 4
}
